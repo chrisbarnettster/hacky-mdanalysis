{
 "cells": [
  {
   "cell_type": "code",
   "execution_count": 1,
   "metadata": {},
   "outputs": [],
   "source": [
    "\n",
    "import argparse\n",
    "import csv\n",
    "import sys\n",
    "\n",
    "import itertools\n",
    "import MDAnalysis as mda\n",
    "\n",
    "import matplotlib\n",
    "matplotlib.use('Agg')  # noqa\n",
    "%matplotlib inline\n",
    "import matplotlib.pyplot as plt\n",
    "\n",
    "import numpy as np\n",
    "import numpy.linalg\n",
    "from MDAnalysis.analysis.dihedrals import Ramachandran\n",
    "import MDAnalysis as mda\n",
    "from MDAnalysis.lib.distances import calc_dihedrals\n",
    "\n",
    "\n",
    "import numpy.linalg\n",
    "import numpy as np\n",
    "\n",
    "import seaborn as sns\n",
    "from collections import namedtuple\n",
    "\n"
   ]
  },
  {
   "cell_type": "code",
   "execution_count": 7,
   "metadata": {},
   "outputs": [],
   "source": [
    "params = {'ramachandran1': {'phi': {'atom1': {'segid': 'CARA', 'resid': 1, 'name': 'O5'}, 'atom2': {'segid': 'CARA', 'resid': 1, 'name': 'C1'}, 'atom3': {'segid': 'PROF', 'resid': 4, 'name': 'OG1'}, 'atom4': {'segid': 'PROF', 'resid': 4, 'name': 'CB'}}, 'psi': {'atom1': {'segid': 'CARA', 'resid': 1, 'name': 'C1'}, 'atom2': {'segid': 'PROF', 'resid': 4, 'name': 'OG1'}, 'atom3': {'segid': 'PROF', 'resid': 4, 'name': 'CB'}, 'atom4': {'segid': 'PROF', 'resid': 4, 'name': 'CA'}}}}\n",
    "\n",
    "#with open(\"params.yml\") as file:\n",
    "#    params = yaml.load(file, Loader=yaml.FullLoader)\n",
    "\n",
    "    "
   ]
  },
  {
   "cell_type": "code",
   "execution_count": 8,
   "metadata": {},
   "outputs": [
    {
     "name": "stdout",
     "output_type": "stream",
     "text": [
      "['(segid CARA and resid 1 and name O5)', '(segid CARA and resid 1 and name C1)', '(segid PROF and resid 4 and name OG1)', '(segid PROF and resid 4 and name CB)']\n",
      "['(segid CARA and resid 1 and name C1)', '(segid PROF and resid 4 and name OG1)', '(segid PROF and resid 4 and name CB)', '(segid PROF and resid 4 and name CA)']\n"
     ]
    }
   ],
   "source": [
    "Dihedral = namedtuple(\n",
    "    'Dihedral', ['atom1', 'atom2', 'atom3', 'atom4'])\n",
    "\n",
    "for k,v in params.items():\n",
    "   for a in ['phi','psi']:\n",
    "       assert (a in v), \"Key %s is missing in inputs: %s \" % (a, k)\n",
    "       atoms=[]\n",
    "       for b in ['atom1','atom2','atom3','atom4']:\n",
    "          assert (b in v[a]), \"Key %s is missing in inputs: %s %s\" % (b, k, a)\n",
    "          for c in ['segid','resid','name']:\n",
    "              assert (c in v[a][b]), \"Key %s is missing in inputs: %s %s %s \" % (c, k, a, b)\n",
    "          atoms.append(\"(segid %s and resid %s and name %s)\" % (v[a][b]['segid'], v[a][b]['resid'], v[a][b]['name']))\n",
    "       print(atoms)\n",
    "       if a=='phi':\n",
    "           dihe_phi = Dihedral(atoms[0],atoms[1], atoms[2], atoms[3])\n",
    "       if a=='psi':\n",
    "           dihe_psi = Dihedral(atoms[0],atoms[1], atoms[2], atoms[3])\n",
    "\n",
    "# order of dihedral atom is the crystallographic definition\n",
    "# (see glycanstructure.org)\n",
    "\n",
    "assert(dihe_phi), \"phi dihedral doesn't exist\"\n",
    "assert(dihe_psi), \"psi dihedral doesn't exist\"\n",
    "\n"
   ]
  },
  {
   "cell_type": "code",
   "execution_count": 9,
   "metadata": {},
   "outputs": [],
   "source": [
    "def calc_torsion(dihedral):\n",
    "    \"\"\"atom 1 -4 are valid atom selections. torsion in degrees is returned\"\"\"\n",
    "    A = u.select_atoms(dihedral.atom1).positions\n",
    "    B = u.select_atoms(dihedral.atom2).positions\n",
    "    C = u.select_atoms(dihedral.atom3).positions\n",
    "    D = u.select_atoms(dihedral.atom4).positions\n",
    "\n",
    "    dihe = calc_dihedrals(A, B, C, D)\n",
    "    return np.rad2deg(dihe)\n",
    "\n"
   ]
  },
  {
   "cell_type": "code",
   "execution_count": 10,
   "metadata": {},
   "outputs": [],
   "source": [
    "\n",
    "u = mda.Universe( \"step3_charmm2omm.pdb\",\"step5_1.dcd\")\n",
    "\n"
   ]
  },
  {
   "cell_type": "code",
   "execution_count": 11,
   "metadata": {},
   "outputs": [
    {
     "name": "stdout",
     "output_type": "stream",
     "text": [
      "[[0 array([69.33258045])]\n",
      " [1 array([65.18465961])]\n",
      " [2 array([64.97783602])]\n",
      " ...\n",
      " [997 array([60.2946603])]\n",
      " [998 array([79.03514177])]\n",
      " [999 array([72.8906985])]] [[0 array([95.6632604])]\n",
      " [1 array([100.47785415])]\n",
      " [2 array([111.5504084])]\n",
      " ...\n",
      " [997 array([126.03406601])]\n",
      " [998 array([126.80694053])]\n",
      " [999 array([123.9063749])]]\n"
     ]
    },
    {
     "data": {
      "image/png": "[encoded data removed]",
      "text/plain": [
       "<Figure size 432x432 with 3 Axes>"
      ]
     },
     "metadata": {},
     "output_type": "display_data"
    }
   ],
   "source": [
    "phi_trajdata = np.array(\n",
    "    [(u.trajectory.frame, calc_torsion(dihe_phi)) for ts in u.trajectory])\n",
    "psi_trajdata = np.array(\n",
    "    [(u.trajectory.frame, calc_torsion(dihe_psi)) for ts in u.trajectory])\n",
    "\n",
    "print(phi_trajdata, psi_trajdata)\n",
    "\n",
    "phi_frame, phi_series = phi_trajdata.T\n",
    "psi_frame, psi_series = psi_trajdata.T\n",
    "\n",
    "phi_series = np.concatenate(phi_series, axis=0)\n",
    "psi_series = np.concatenate(psi_series, axis=0)\n",
    "\n",
    "#zip(phi_frame, phi_series, psi_series)\n",
    "\n",
    "#with open(args.output, 'w') as f:\n",
    "#    writer = csv.writer(f, delimiter='\\t')\n",
    "#    writer.writerows(zip(phi_frame, phi_series, psi_series))\n",
    "\n",
    "with sns.axes_style(\"white\"):\n",
    "    h = sns.jointplot(x=phi_series, y=psi_series, kind=\"kde\", legend=True)\n",
    "    h.set_axis_labels(r'$\\Phi$ (degrees)', r'$\\Psi$ (degrees)')\n",
    "    h.ax_joint.set_xlim(-180, 180)\n",
    "    h.ax_joint.set_ylim(-180, 180)\n",
    "    plt.show()\n",
    "                                                           "
   ]
  },
  {
   "cell_type": "code",
   "execution_count": null,
   "metadata": {},
   "outputs": [],
   "source": []
  },
  {
   "cell_type": "code",
   "execution_count": null,
   "metadata": {},
   "outputs": [],
   "source": []
  }
 ],
 "metadata": {
  "kernelspec": {
   "display_name": "Python 3",
   "language": "python",
   "name": "python3"
  },
  "language_info": {
   "codemirror_mode": {
    "name": "ipython",
    "version": 3
   },
   "file_extension": ".py",
   "mimetype": "text/x-python",
   "name": "python",
   "nbconvert_exporter": "python",
   "pygments_lexer": "ipython3",
   "version": "3.8.1"
  }
 },
 "nbformat": 4,
 "nbformat_minor": 4
}
