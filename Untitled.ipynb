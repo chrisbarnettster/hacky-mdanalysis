{
 "cells": [
  {
   "cell_type": "code",
   "execution_count": 1,
   "metadata": {},
   "outputs": [],
   "source": [
    "import sys\n",
    "sys.path\n",
    "sys.executable \n",
    "import mdtraj as md\n",
    "\n",
    "import matplotlib.pyplot as plt\n",
    "import pandas as pd\n",
    "#import seaborn as sns\n",
    "import argparse\n",
    "import csv\n",
    "\n",
    "import itertools\n",
    "#import MDAnalysis as mda\n",
    "\n",
    "import matplotlib\n",
    "#matplotlib.use('Agg')  # noqa\n",
    "%matplotlib inline\n",
    "import matplotlib.pyplot as plt\n",
    "\n",
    "import numpy as np\n",
    "import numpy.linalg\n",
    "#from MDAnalysis.analysis.dihedrals import Ramachandran\n",
    "\n",
    "import numpy.linalg\n",
    "import numpy as np\n",
    "\n",
    "import seaborn as sns\n"
   ]
  },
  {
   "cell_type": "code",
   "execution_count": 2,
   "metadata": {},
   "outputs": [],
   "source": [
    "import pathlib\n",
    "list_of_filenames=[]\n",
    "directory=\".\"\n",
    "list_of_filenames.extend([str(i.absolute()) for i in pathlib.Path(directory).glob('*.dcd')])\n",
    "#list_of_filenames=['/scratch/cbarnett/HFpaperanalysis/vacuum/../water/dcd/dyna_9-1.dcd']"
   ]
  },
  {
   "cell_type": "code",
   "execution_count": 3,
   "metadata": {},
   "outputs": [],
   "source": [
    "\n",
    "traj = md.load (list_of_filenames,top='step3_charmm2omm.pdb')"
   ]
  },
  {
   "cell_type": "code",
   "execution_count": 4,
   "metadata": {},
   "outputs": [],
   "source": [
    "#md.compute_dssp(traj)"
   ]
  },
  {
   "cell_type": "code",
   "execution_count": 5,
   "metadata": {},
   "outputs": [],
   "source": [
    "traj.center_coordinates()\n",
    "rmsds = md.rmsd(traj, traj, 0, precentered=True, atom_indices=None)"
   ]
  },
  {
   "cell_type": "code",
   "execution_count": 6,
   "metadata": {},
   "outputs": [
    {
     "data": {
      "text/plain": [
       "array([0.       , 2.5995922, 3.0857341, 3.4021585, 3.6275256, 3.799566 ,\n",
       "       3.942593 , 4.080978 , 4.1908317, 4.294115 , 4.399823 , 4.495941 ,\n",
       "       4.5604715, 4.623648 , 4.68835  , 4.734669 , 4.8123965, 4.897897 ,\n",
       "       4.939229 , 4.987598 , 5.027027 , 5.0855966, 5.108995 , 5.1603684,\n",
       "       5.215722 , 5.246052 , 5.2734675, 5.3177366, 5.3469696, 5.373087 ,\n",
       "       5.415999 , 5.451415 , 5.4889164, 5.5043693, 5.5359674, 5.568993 ,\n",
       "       5.5943356, 5.621646 , 5.6712384, 5.6765566, 5.701871 , 5.7152586,\n",
       "       5.744308 , 5.780324 , 5.810467 , 5.806119 , 5.824186 , 5.8558965,\n",
       "       5.864207 , 5.886726 , 5.8962092, 5.9160976, 5.9296427, 5.95014  ,\n",
       "       5.965938 , 5.9975824, 6.004289 , 6.021827 , 6.038723 , 6.054157 ,\n",
       "       6.062691 , 6.0736337, 6.0692596, 6.0789523, 6.0985227, 6.1111317,\n",
       "       6.128327 , 6.121944 , 6.1314273, 6.1363864, 6.15626  , 6.1632996,\n",
       "       6.172768 , 6.1725726, 6.187992 , 6.2027936, 6.2193356, 6.2236204,\n",
       "       6.2234116, 6.2372165, 6.2506394, 6.2642574, 6.2634954, 6.2730937,\n",
       "       6.284508 , 6.29631  , 6.2977686, 6.303073 , 6.3231897, 6.344519 ,\n",
       "       6.3301682, 6.3573136, 6.358504 , 6.3499684, 6.356318 , 6.3612075,\n",
       "       6.373616 , 6.3819737, 6.3906593, 6.397815 , 6.401756 , 6.402472 ,\n",
       "       6.4073625, 6.415358 , 6.430093 , 6.4309254, 6.436007 , 6.433254 ,\n",
       "       6.436851 , 6.4530997, 6.444369 , 6.443782 , 6.456056 , 6.463913 ,\n",
       "       6.462276 , 6.4749956, 6.4778066, 6.49221  , 6.475926 , 6.47846  ,\n",
       "       6.478228 , 6.4813957, 6.4908442, 6.48871  , 6.5032196, 6.4996204,\n",
       "       6.5083227, 6.5200696, 6.5191207, 6.513762 , 6.515831 , 6.5350933,\n",
       "       6.52651  , 6.534148 , 6.537351 , 6.5468984, 6.5501623, 6.5530567,\n",
       "       6.55313  , 6.569843 , 6.562334 , 6.555202 , 6.5554667, 6.5541935,\n",
       "       6.5537567, 6.557752 , 6.5521674, 6.561527 , 6.5615826, 6.563714 ,\n",
       "       6.562666 , 6.571778 , 6.568683 , 6.5756607, 6.575048 , 6.571705 ,\n",
       "       6.580467 , 6.585633 , 6.5876746, 6.5986557, 6.587867 , 6.5889826,\n",
       "       6.593237 , 6.5918984, 6.6008077, 6.5891147, 6.6100106, 6.6085505,\n",
       "       6.597393 , 6.609397 , 6.6136093, 6.60653  , 6.6100225, 6.6080427,\n",
       "       6.6240005, 6.6280503, 6.6229496, 6.630111 , 6.617899 , 6.6259723,\n",
       "       6.614922 , 6.626187 , 6.6314015, 6.643596 , 6.6480703, 6.6403995,\n",
       "       6.647032 , 6.637845 , 6.638177 , 6.6426105, 6.62796  , 6.6367345,\n",
       "       6.636772 , 6.638869 , 6.6340218, 6.634398 , 6.636368 , 6.6413774,\n",
       "       6.634303 , 6.6359825, 6.642077 , 6.641646 , 6.636677 , 6.647473 ,\n",
       "       6.644528 , 6.652673 , 6.656461 , 6.6519465, 6.656266 , 6.661279 ,\n",
       "       6.660826 , 6.657898 , 6.665529 , 6.662418 , 6.665476 , 6.6662855,\n",
       "       6.6645026, 6.667849 , 6.6732583, 6.666065 , 6.671053 , 6.67141  ,\n",
       "       6.671768 , 6.671103 , 6.6758947, 6.6794214, 6.6685896, 6.6708264,\n",
       "       6.6673512, 6.6756787, 6.67525  , 6.6695595, 6.674368 , 6.6767106,\n",
       "       6.6828394, 6.6740294, 6.6783347, 6.676539 , 6.664533 , 6.6853337,\n",
       "       6.6862817, 6.6790934, 6.6737437, 6.676192 , 6.6822944, 6.669653 ,\n",
       "       6.679349 , 6.6709623, 6.6818914, 6.677173 , 6.685048 , 6.6871495,\n",
       "       6.6884403, 6.693312 , 6.6870995, 6.6844563, 6.687093 , 6.6819725,\n",
       "       6.682268 , 6.6913333, 6.6943746, 6.688844 , 6.6933823, 6.696499 ,\n",
       "       6.6860237, 6.6855683, 6.6990976, 6.6821027, 6.6883144, 6.680703 ,\n",
       "       6.6835117, 6.692738 , 6.6811333, 6.683438 , 6.683817 , 6.683823 ,\n",
       "       6.680415 , 6.695909 , 6.683861 , 6.696845 , 6.6850452, 6.692398 ,\n",
       "       6.688446 , 6.6888795, 6.6882424, 6.6793327, 6.6827993, 6.679113 ,\n",
       "       6.683242 , 6.682756 , 6.6814227, 6.687113 , 6.6809587, 6.6905246,\n",
       "       6.6732407, 6.6596956, 6.6678505, 6.6641374, 6.661069 , 6.6623964,\n",
       "       6.671533 , 6.674912 , 6.6665387, 6.659051 , 6.6695094, 6.6761613,\n",
       "       6.672356 , 6.6690984, 6.6804137, 6.677581 , 6.6647315, 6.670307 ,\n",
       "       6.6644864, 6.66467  , 6.6593857, 6.660291 , 6.6713834, 6.666557 ,\n",
       "       6.669658 , 6.6694994, 6.6722584, 6.668321 , 6.656568 , 6.6537833,\n",
       "       6.672364 , 6.6592636, 6.6601596, 6.654068 , 6.654825 , 6.6563535,\n",
       "       6.6591167, 6.653171 , 6.676347 , 6.6625686, 6.6646857, 6.6595383,\n",
       "       6.665926 , 6.6709394, 6.656808 , 6.663805 , 6.664419 , 6.6679535,\n",
       "       6.6633587, 6.676808 , 6.6665497, 6.6687546, 6.6762133, 6.6743193,\n",
       "       6.6669893, 6.671219 , 6.675141 , 6.675599 , 6.684406 , 6.686753 ,\n",
       "       6.689106 , 6.6818147, 6.687846 , 6.680931 , 6.6721935, 6.674007 ,\n",
       "       6.6696234, 6.6817913, 6.678058 , 6.677862 , 6.6741323, 6.689716 ,\n",
       "       6.684371 , 6.689703 , 6.681029 , 6.6788034, 6.6691628, 6.678784 ,\n",
       "       6.680672 , 6.674839 , 6.673135 , 6.6725984, 6.672293 , 6.6732526,\n",
       "       6.664923 , 6.6620584, 6.6663213, 6.6724305, 6.6691437, 6.683725 ,\n",
       "       6.6726665, 6.6709056, 6.6808586, 6.67797  , 6.6678576, 6.653632 ,\n",
       "       6.645784 , 6.639314 , 6.642573 , 6.642896 , 6.6592636, 6.6590953,\n",
       "       6.6477985, 6.6481676, 6.6484523, 6.6398497, 6.6634526, 6.6605988,\n",
       "       6.6687403, 6.656732 , 6.6630692, 6.6566677, 6.664004 , 6.6631465,\n",
       "       6.6602707, 6.6696186, 6.6654654, 6.675275 , 6.67785  , 6.6699896,\n",
       "       6.679066 , 6.681863 , 6.680612 , 6.6844883, 6.6865644, 6.6797333,\n",
       "       6.6829424, 6.686073 , 6.6807866, 6.68654  , 6.688352 , 6.6707363,\n",
       "       6.6618605, 6.6794734, 6.687914 , 6.6853876, 6.6897435, 6.691155 ,\n",
       "       6.682805 , 6.6875668, 6.687299 , 6.677973 , 6.6776032, 6.686286 ,\n",
       "       6.6854024, 6.692232 , 6.6875978, 6.68457  , 6.677628 , 6.6820235,\n",
       "       6.6779156, 6.677141 , 6.6808486, 6.684446 , 6.6822467, 6.6842504,\n",
       "       6.6762733, 6.683523 , 6.6756372, 6.674972 , 6.678467 , 6.6913495,\n",
       "       6.689823 , 6.6783876, 6.676396 , 6.6776943, 6.6848917, 6.6905227,\n",
       "       6.688906 , 6.6853456, 6.6896796, 6.697935 , 6.6903505, 6.685222 ,\n",
       "       6.6785703, 6.678362 , 6.679321 , 6.683094 , 6.6819267, 6.67853  ,\n",
       "       6.686539 , 6.6778846, 6.6803713, 6.6743884, 6.669709 , 6.673209 ,\n",
       "       6.6749277, 6.667042 , 6.6638145, 6.6655016, 6.6901703, 6.679203 ,\n",
       "       6.678293 , 6.687342 , 6.673695 , 6.677597 , 6.6695175, 6.657102 ,\n",
       "       6.6653495, 6.6634254, 6.665321 , 6.672571 , 6.678419 , 6.681552 ,\n",
       "       6.6718745, 6.683085 , 6.6846027, 6.6874146, 6.68992  , 6.6760178,\n",
       "       6.6843686, 6.675943 , 6.6826744, 6.6751876, 6.669144 , 6.669339 ,\n",
       "       6.6693544, 6.675044 , 6.6759105, 6.6894426, 6.690393 , 6.6841035,\n",
       "       6.6976657, 6.6894665, 6.6814904, 6.6772175, 6.6801267, 6.6827297,\n",
       "       6.681101 , 6.6782675, 6.671763 , 6.662046 , 6.6689396, 6.6759458,\n",
       "       6.6683993, 6.6661167, 6.6779447, 6.6694164, 6.6805453, 6.6932817,\n",
       "       6.688813 , 6.6819873, 6.683589 , 6.6810093, 6.687846 , 6.6840873,\n",
       "       6.68871  , 6.692208 , 6.693579 , 6.698501 , 6.6945357, 6.694067 ,\n",
       "       6.69937  , 6.696587 , 6.693622 , 6.696638 , 6.70761  , 6.699434 ,\n",
       "       6.696484 , 6.700264 , 6.6912208, 6.690828 , 6.6994553, 6.6941724,\n",
       "       6.6961555, 6.6998534, 6.7017336, 6.7097015, 6.695394 , 6.692939 ,\n",
       "       6.679728 , 6.6850567, 6.6858873, 6.694553 , 6.680892 , 6.665742 ,\n",
       "       6.6798987, 6.6849875, 6.6871405, 6.6835413, 6.6788116, 6.671322 ,\n",
       "       6.6826596, 6.67457  , 6.690052 , 6.6936946, 6.695148 , 6.6979356,\n",
       "       6.701537 , 6.6991425, 6.702146 , 6.6965613, 6.6927924, 6.680628 ,\n",
       "       6.686325 , 6.689743 , 6.6997538, 6.698097 , 6.697085 , 6.7020135,\n",
       "       6.694775 , 6.6975822, 6.693872 , 6.6944666, 6.703233 , 6.6938334,\n",
       "       6.6981277, 6.6915684, 6.6919026, 6.6967854, 6.6917567, 6.6907177,\n",
       "       6.6831284, 6.6858044, 6.6845326, 6.6944156, 6.6889834, 6.6851034,\n",
       "       6.6941667, 6.693538 , 6.6931367, 6.684628 , 6.689821 , 6.698905 ,\n",
       "       6.6869226, 6.6861343, 6.6913996, 6.685033 , 6.7031584, 6.7004704,\n",
       "       6.704664 , 6.6887527, 6.6910872, 6.695086 , 6.7023826, 6.686846 ,\n",
       "       6.696955 , 6.7033615, 6.698977 , 6.701321 , 6.7075553, 6.699173 ,\n",
       "       6.70084  , 6.697219 , 6.700256 , 6.685219 , 6.6984453, 6.697805 ,\n",
       "       6.695402 , 6.6867566, 6.6985   , 6.690424 , 6.688988 , 6.6951084,\n",
       "       6.697475 , 6.698878 , 6.6866364, 6.6919885, 6.694822 , 6.7031274,\n",
       "       6.696526 , 6.699266 , 6.7061896, 6.70482  , 6.707611 , 6.6957884,\n",
       "       6.6999946, 6.6952696, 6.6990423, 6.6902943, 6.6940928, 6.6919813,\n",
       "       6.6964335, 6.6918807, 6.689647 , 6.6995654, 6.7046037, 6.6910787,\n",
       "       6.6926894, 6.689605 , 6.6837397, 6.6834745, 6.6852617, 6.6865373,\n",
       "       6.683032 , 6.6804495, 6.6633234, 6.6750064, 6.679734 , 6.680979 ,\n",
       "       6.68387  , 6.685958 , 6.6894774, 6.6794434, 6.692458 , 6.6847367,\n",
       "       6.682463 , 6.6885343, 6.6901135, 6.683407 , 6.687037 , 6.690798 ,\n",
       "       6.6942573, 6.687093 , 6.6900826, 6.684457 , 6.6958866, 6.687097 ,\n",
       "       6.688457 , 6.6928954, 6.6884494, 6.689924 , 6.6849074, 6.6871247,\n",
       "       6.6778865, 6.6854906, 6.680778 , 6.6918793, 6.6971126, 6.698567 ,\n",
       "       6.6890035, 6.6879973, 6.681533 , 6.681362 , 6.6876264, 6.684808 ,\n",
       "       6.687155 , 6.6860304, 6.684381 , 6.677972 , 6.6761947, 6.672635 ,\n",
       "       6.671604 , 6.6738787, 6.684229 , 6.689452 , 6.683575 , 6.6851916,\n",
       "       6.6836166, 6.688424 , 6.700011 , 6.6890564, 6.6785226, 6.686953 ,\n",
       "       6.68716  , 6.682116 , 6.6923265, 6.690243 , 6.6877995, 6.6769547,\n",
       "       6.6883717, 6.6958   , 6.6927805, 6.700574 , 6.6970925, 6.695457 ,\n",
       "       6.683108 , 6.689958 , 6.6947303, 6.69397  , 6.676539 , 6.679342 ,\n",
       "       6.6763897, 6.6823764, 6.68395  , 6.6804914, 6.675018 , 6.67548  ,\n",
       "       6.669149 , 6.6694417, 6.679341 , 6.6758523, 6.6860967, 6.6900926,\n",
       "       6.6868973, 6.6894627, 6.702623 , 6.6938324, 6.690272 , 6.69473  ,\n",
       "       6.6902556, 6.687624 , 6.685802 , 6.686786 , 6.68763  , 6.6885114,\n",
       "       6.6907353, 6.6913953, 6.696    , 6.6896896, 6.6899867, 6.6765776,\n",
       "       6.695996 , 6.7005343, 6.6973834, 6.6926637, 6.694616 , 6.688158 ,\n",
       "       6.691524 , 6.684829 , 6.6854534, 6.6781273, 6.686007 , 6.678034 ,\n",
       "       6.6790743, 6.6663876, 6.689464 , 6.6920776, 6.684476 , 6.6908092,\n",
       "       6.689033 , 6.693227 , 6.6966906, 6.696142 , 6.693232 , 6.6881776,\n",
       "       6.693653 , 6.6986055, 6.7074304, 6.704675 , 6.705284 , 6.699233 ,\n",
       "       6.702921 , 6.698817 , 6.701249 , 6.6976542, 6.6949024, 6.690394 ,\n",
       "       6.6984963, 6.68933  , 6.689123 , 6.69515  , 6.6897817, 6.689126 ,\n",
       "       6.688505 , 6.6775517, 6.6782255, 6.678354 , 6.673272 , 6.6694245,\n",
       "       6.6693664, 6.6697903, 6.6843243, 6.6814103, 6.6813602, 6.686419 ,\n",
       "       6.684776 , 6.6875873, 6.6760583, 6.6811585, 6.681168 , 6.67785  ,\n",
       "       6.692222 , 6.6860776, 6.6872773, 6.685815 , 6.6863303, 6.6860867,\n",
       "       6.684074 , 6.67996  , 6.6854587, 6.688615 , 6.6889243, 6.678478 ,\n",
       "       6.6859655, 6.693013 , 6.696786 , 6.683299 , 6.681172 , 6.6896477,\n",
       "       6.6919136, 6.6849833, 6.680424 , 6.6796384, 6.685404 , 6.69072  ,\n",
       "       6.687247 , 6.6861134, 6.6976767, 6.690156 , 6.6874194, 6.6944027,\n",
       "       6.692429 , 6.677284 , 6.675263 , 6.683994 , 6.681556 , 6.6790395,\n",
       "       6.6839404, 6.705888 , 6.7043343, 6.700058 , 6.6980867, 6.7048535,\n",
       "       6.7038426, 6.6995215, 6.7051373, 6.694726 , 6.7097206, 6.6910152,\n",
       "       6.700252 , 6.6919546, 6.6922326, 6.693389 , 6.689777 , 6.6982913,\n",
       "       6.6988883, 6.702704 , 6.7104087, 6.7061305, 6.7094636, 6.7113256,\n",
       "       6.7095895, 6.694712 , 6.6904697, 6.687933 , 6.6895976, 6.6951985,\n",
       "       6.706871 , 6.7058434, 6.69512  , 6.6982493, 6.691114 , 6.690877 ,\n",
       "       6.6987867, 6.699309 , 6.6915355, 6.693612 , 6.6906037, 6.7017064,\n",
       "       6.697454 , 6.69309  , 6.695419 , 6.690743 , 6.686639 , 6.69172  ,\n",
       "       6.686796 , 6.6813636, 6.689966 , 6.679005 , 6.67895  , 6.692162 ,\n",
       "       6.680295 , 6.6838117, 6.6752076, 6.678828 , 6.680839 , 6.674914 ,\n",
       "       6.688844 , 6.677713 , 6.6753225, 6.675567 , 6.6714926, 6.663353 ,\n",
       "       6.670254 , 6.671844 , 6.6780133, 6.6788483, 6.6851425, 6.6907873,\n",
       "       6.6887608, 6.677405 , 6.684379 , 6.687284 , 6.6755614, 6.6873093,\n",
       "       6.676329 , 6.6823764, 6.682769 , 6.6853456, 6.692078 , 6.679805 ,\n",
       "       6.68157  , 6.685793 , 6.6891084, 6.6767297, 6.685329 , 6.691083 ,\n",
       "       6.6830645, 6.686864 , 6.677489 , 6.6780715, 6.671272 , 6.675093 ,\n",
       "       6.6809745, 6.68771  , 6.6780643, 6.677583 , 6.6704335, 6.673901 ,\n",
       "       6.681758 , 6.6735234, 6.667733 , 6.6689863, 6.6757793, 6.671724 ,\n",
       "       6.6883764, 6.6894917, 6.6842556, 6.6855273, 6.676928 , 6.6851835,\n",
       "       6.684046 , 6.678025 , 6.6738834, 6.675248 ], dtype=float32)"
      ]
     },
     "execution_count": 6,
     "metadata": {},
     "output_type": "execute_result"
    }
   ],
   "source": [
    "rmsds"
   ]
  },
  {
   "cell_type": "code",
   "execution_count": 7,
   "metadata": {},
   "outputs": [
    {
     "data": {
      "text/plain": [
       "Text(0, 0.5, 'RMSD (nm)')"
      ]
     },
     "execution_count": 7,
     "metadata": {},
     "output_type": "execute_result"
    },
    {
     "data": {
      "image/png": "[encoded data removed]",
      "text/plain": [
       "<Figure size 432x288 with 1 Axes>"
      ]
     },
     "metadata": {
      "needs_background": "light"
     },
     "output_type": "display_data"
    }
   ],
   "source": [
    "plt.figure()\n",
    "plt.plot(traj.time, rmsds, 'r', label='all atom')\n",
    "plt.legend()\n",
    "plt.title('RMSD all atom')\n",
    "plt.xlabel('simulation time (ps)')\n",
    "plt.ylabel('RMSD (nm)')"
   ]
  },
  {
   "cell_type": "code",
   "execution_count": 9,
   "metadata": {},
   "outputs": [
    {
     "data": {
      "text/plain": [
       "array([['C', 'C', 'C', ..., 'NA', 'NA', 'NA'],\n",
       "       ['C', 'C', 'C', ..., 'NA', 'NA', 'NA']], dtype='<U2')"
      ]
     },
     "execution_count": 9,
     "metadata": {},
     "output_type": "execute_result"
    }
   ],
   "source": [
    "md.compute_dssp(traj[0:2])"
   ]
  },
  {
   "cell_type": "code",
   "execution_count": 21,
   "metadata": {},
   "outputs": [
    {
     "ename": "TypeError",
     "evalue": "select() got an unexpected keyword argument 'posonlyargs'",
     "output_type": "error",
     "traceback": [
      "\u001b[0;31m---------------------------------------------------------------------------\u001b[0m",
      "\u001b[0;31mTypeError\u001b[0m                                 Traceback (most recent call last)",
      "\u001b[0;32m<ipython-input-21-7ad0f874c21a>\u001b[0m in \u001b[0;36m<module>\u001b[0;34m\u001b[0m\n\u001b[1;32m      2\u001b[0m \u001b[0;34m\u001b[0m\u001b[0m\n\u001b[1;32m      3\u001b[0m \u001b[0mtop\u001b[0m \u001b[0;34m=\u001b[0m \u001b[0mtraj\u001b[0m\u001b[0;34m.\u001b[0m\u001b[0mtopology\u001b[0m\u001b[0;34m\u001b[0m\u001b[0;34m\u001b[0m\u001b[0m\n\u001b[0;32m----> 4\u001b[0;31m \u001b[0mmucin_ligand_select\u001b[0m \u001b[0;34m=\u001b[0m \u001b[0mtop\u001b[0m\u001b[0;34m.\u001b[0m\u001b[0mselect\u001b[0m\u001b[0;34m(\u001b[0m\u001b[0;34m\"water\"\u001b[0m\u001b[0;34m,\u001b[0m \u001b[0mposonlyargs\u001b[0m\u001b[0;34m=\u001b[0m\u001b[0;34m[\u001b[0m\u001b[0;34m]\u001b[0m\u001b[0;34m)\u001b[0m\u001b[0;34m\u001b[0m\u001b[0;34m\u001b[0m\u001b[0m\n\u001b[0m\u001b[1;32m      5\u001b[0m \u001b[0;31m#print(mucin_ligand_select)\u001b[0m\u001b[0;34m\u001b[0m\u001b[0;34m\u001b[0m\u001b[0;34m\u001b[0m\u001b[0m\n",
      "\u001b[0;31mTypeError\u001b[0m: select() got an unexpected keyword argument 'posonlyargs'"
     ]
    }
   ],
   "source": [
    "posonlyargs=[]\n",
    "\n",
    "top = traj.topology\n",
    "mucin_ligand_select = top.select(\"resname PROF and backbone)\n",
    "print(mucin_ligand_select)"
   ]
  },
  {
   "cell_type": "code",
   "execution_count": null,
   "metadata": {},
   "outputs": [],
   "source": [
    "top.select(\"water\")"
   ]
  },
  {
   "cell_type": "code",
   "execution_count": null,
   "metadata": {},
   "outputs": [],
   "source": []
  }
 ],
 "metadata": {
  "kernelspec": {
   "display_name": "Python 3",
   "language": "python",
   "name": "python3"
  },
  "language_info": {
   "codemirror_mode": {
    "name": "ipython",
    "version": 3
   },
   "file_extension": ".py",
   "mimetype": "text/x-python",
   "name": "python",
   "nbconvert_exporter": "python",
   "pygments_lexer": "ipython3",
   "version": "3.8.1"
  }
 },
 "nbformat": 4,
 "nbformat_minor": 4
}
